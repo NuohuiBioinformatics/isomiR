{
 "cells": [
  {
   "cell_type": "code",
   "execution_count": 10,
   "metadata": {
    "vscode": {
     "languageId": "r"
    }
   },
   "outputs": [],
   "source": [
    "raw.data.tcga = read.csv('/storeData/project/user/anxiaolong/work/make_data/CRC/model_result/TCGA/data/TCGA_CRC_expression_select_0.1_5.csv')\n",
    "\n",
    "\n",
    "#sample.group.tcga <- as.factor(raw.data.tcga[1, ])\n",
    "#raw.data.tcga <- raw.data.tcga[-1,]"
   ]
  },
  {
   "cell_type": "code",
   "execution_count": 8,
   "metadata": {
    "vscode": {
     "languageId": "r"
    }
   },
   "outputs": [
    {
     "data": {
      "text/html": [
       "<table class=\"dataframe\">\n",
       "<caption>A data.frame: 1 × 628</caption>\n",
       "<thead>\n",
       "\t<tr><th></th><th scope=col>X</th><th scope=col>TCGA.3L.AA1B.01A.11H.A37P.13</th><th scope=col>TCGA.4N.A93T.01A.11H.A37P.13</th><th scope=col>TCGA.4T.AA8H.01A.11H.A41D.13</th><th scope=col>TCGA.5M.AAT4.01A.11H.A41D.13</th><th scope=col>TCGA.5M.AAT5.01A.21H.A41D.13</th><th scope=col>TCGA.5M.AAT6.01A.11H.A41D.13</th><th scope=col>TCGA.5M.AATA.01A.31H.A41D.13</th><th scope=col>TCGA.5M.AATE.01A.11H.A41D.13</th><th scope=col>TCGA.A6.2671.01A.01T.1409.13</th><th scope=col>⋯</th><th scope=col>TCGA.QG.A5YV.01A.11H.A28I.13</th><th scope=col>TCGA.QG.A5YW.01A.11H.A28I.13</th><th scope=col>TCGA.QG.A5YX.01A.11H.A28I.13</th><th scope=col>TCGA.QG.A5Z1.01A.11H.A28I.13</th><th scope=col>TCGA.QG.A5Z2.01A.11H.A28I.13</th><th scope=col>TCGA.QL.A97D.01A.12H.A41D.13</th><th scope=col>TCGA.RU.A8FL.01A.11H.A37P.13</th><th scope=col>TCGA.SS.A7HO.01A.21H.A37P.13</th><th scope=col>TCGA.T9.A92H.01A.11H.A37P.13</th><th scope=col>TCGA.WS.AB45.01A.11H.A41D.13</th></tr>\n",
       "\t<tr><th></th><th scope=col>&lt;chr&gt;</th><th scope=col>&lt;int&gt;</th><th scope=col>&lt;int&gt;</th><th scope=col>&lt;int&gt;</th><th scope=col>&lt;int&gt;</th><th scope=col>&lt;int&gt;</th><th scope=col>&lt;int&gt;</th><th scope=col>&lt;int&gt;</th><th scope=col>&lt;int&gt;</th><th scope=col>&lt;int&gt;</th><th scope=col>⋯</th><th scope=col>&lt;int&gt;</th><th scope=col>&lt;int&gt;</th><th scope=col>&lt;int&gt;</th><th scope=col>&lt;int&gt;</th><th scope=col>&lt;int&gt;</th><th scope=col>&lt;int&gt;</th><th scope=col>&lt;int&gt;</th><th scope=col>&lt;int&gt;</th><th scope=col>&lt;int&gt;</th><th scope=col>&lt;int&gt;</th></tr>\n",
       "</thead>\n",
       "<tbody>\n",
       "\t<tr><th scope=row>1</th><td>Type</td><td>1</td><td>1</td><td>1</td><td>1</td><td>1</td><td>1</td><td>1</td><td>1</td><td>1</td><td>⋯</td><td>1</td><td>1</td><td>1</td><td>1</td><td>1</td><td>1</td><td>1</td><td>1</td><td>1</td><td>1</td></tr>\n",
       "</tbody>\n",
       "</table>\n"
      ],
      "text/latex": [
       "A data.frame: 1 × 628\n",
       "\\begin{tabular}{r|lllllllllllllllllllll}\n",
       "  & X & TCGA.3L.AA1B.01A.11H.A37P.13 & TCGA.4N.A93T.01A.11H.A37P.13 & TCGA.4T.AA8H.01A.11H.A41D.13 & TCGA.5M.AAT4.01A.11H.A41D.13 & TCGA.5M.AAT5.01A.21H.A41D.13 & TCGA.5M.AAT6.01A.11H.A41D.13 & TCGA.5M.AATA.01A.31H.A41D.13 & TCGA.5M.AATE.01A.11H.A41D.13 & TCGA.A6.2671.01A.01T.1409.13 & ⋯ & TCGA.QG.A5YV.01A.11H.A28I.13 & TCGA.QG.A5YW.01A.11H.A28I.13 & TCGA.QG.A5YX.01A.11H.A28I.13 & TCGA.QG.A5Z1.01A.11H.A28I.13 & TCGA.QG.A5Z2.01A.11H.A28I.13 & TCGA.QL.A97D.01A.12H.A41D.13 & TCGA.RU.A8FL.01A.11H.A37P.13 & TCGA.SS.A7HO.01A.21H.A37P.13 & TCGA.T9.A92H.01A.11H.A37P.13 & TCGA.WS.AB45.01A.11H.A41D.13\\\\\n",
       "  & <chr> & <int> & <int> & <int> & <int> & <int> & <int> & <int> & <int> & <int> & ⋯ & <int> & <int> & <int> & <int> & <int> & <int> & <int> & <int> & <int> & <int>\\\\\n",
       "\\hline\n",
       "\t1 & Type & 1 & 1 & 1 & 1 & 1 & 1 & 1 & 1 & 1 & ⋯ & 1 & 1 & 1 & 1 & 1 & 1 & 1 & 1 & 1 & 1\\\\\n",
       "\\end{tabular}\n"
      ],
      "text/markdown": [
       "\n",
       "A data.frame: 1 × 628\n",
       "\n",
       "| <!--/--> | X &lt;chr&gt; | TCGA.3L.AA1B.01A.11H.A37P.13 &lt;int&gt; | TCGA.4N.A93T.01A.11H.A37P.13 &lt;int&gt; | TCGA.4T.AA8H.01A.11H.A41D.13 &lt;int&gt; | TCGA.5M.AAT4.01A.11H.A41D.13 &lt;int&gt; | TCGA.5M.AAT5.01A.21H.A41D.13 &lt;int&gt; | TCGA.5M.AAT6.01A.11H.A41D.13 &lt;int&gt; | TCGA.5M.AATA.01A.31H.A41D.13 &lt;int&gt; | TCGA.5M.AATE.01A.11H.A41D.13 &lt;int&gt; | TCGA.A6.2671.01A.01T.1409.13 &lt;int&gt; | ⋯ ⋯ | TCGA.QG.A5YV.01A.11H.A28I.13 &lt;int&gt; | TCGA.QG.A5YW.01A.11H.A28I.13 &lt;int&gt; | TCGA.QG.A5YX.01A.11H.A28I.13 &lt;int&gt; | TCGA.QG.A5Z1.01A.11H.A28I.13 &lt;int&gt; | TCGA.QG.A5Z2.01A.11H.A28I.13 &lt;int&gt; | TCGA.QL.A97D.01A.12H.A41D.13 &lt;int&gt; | TCGA.RU.A8FL.01A.11H.A37P.13 &lt;int&gt; | TCGA.SS.A7HO.01A.21H.A37P.13 &lt;int&gt; | TCGA.T9.A92H.01A.11H.A37P.13 &lt;int&gt; | TCGA.WS.AB45.01A.11H.A41D.13 &lt;int&gt; |\n",
       "|---|---|---|---|---|---|---|---|---|---|---|---|---|---|---|---|---|---|---|---|---|---|\n",
       "| 1 | Type | 1 | 1 | 1 | 1 | 1 | 1 | 1 | 1 | 1 | ⋯ | 1 | 1 | 1 | 1 | 1 | 1 | 1 | 1 | 1 | 1 |\n",
       "\n"
      ],
      "text/plain": [
       "  X    TCGA.3L.AA1B.01A.11H.A37P.13 TCGA.4N.A93T.01A.11H.A37P.13\n",
       "1 Type 1                            1                           \n",
       "  TCGA.4T.AA8H.01A.11H.A41D.13 TCGA.5M.AAT4.01A.11H.A41D.13\n",
       "1 1                            1                           \n",
       "  TCGA.5M.AAT5.01A.21H.A41D.13 TCGA.5M.AAT6.01A.11H.A41D.13\n",
       "1 1                            1                           \n",
       "  TCGA.5M.AATA.01A.31H.A41D.13 TCGA.5M.AATE.01A.11H.A41D.13\n",
       "1 1                            1                           \n",
       "  TCGA.A6.2671.01A.01T.1409.13 ⋯ TCGA.QG.A5YV.01A.11H.A28I.13\n",
       "1 1                            ⋯ 1                           \n",
       "  TCGA.QG.A5YW.01A.11H.A28I.13 TCGA.QG.A5YX.01A.11H.A28I.13\n",
       "1 1                            1                           \n",
       "  TCGA.QG.A5Z1.01A.11H.A28I.13 TCGA.QG.A5Z2.01A.11H.A28I.13\n",
       "1 1                            1                           \n",
       "  TCGA.QL.A97D.01A.12H.A41D.13 TCGA.RU.A8FL.01A.11H.A37P.13\n",
       "1 1                            1                           \n",
       "  TCGA.SS.A7HO.01A.21H.A37P.13 TCGA.T9.A92H.01A.11H.A37P.13\n",
       "1 1                            1                           \n",
       "  TCGA.WS.AB45.01A.11H.A41D.13\n",
       "1 1                           "
      ]
     },
     "metadata": {},
     "output_type": "display_data"
    }
   ],
   "source": [
    "raw.data.tcga[1, ]"
   ]
  },
  {
   "cell_type": "code",
   "execution_count": 11,
   "metadata": {
    "vscode": {
     "languageId": "r"
    }
   },
   "outputs": [
    {
     "data": {
      "text/html": [
       "<table class=\"dataframe\">\n",
       "<caption>A data.frame: 6 × 628</caption>\n",
       "<thead>\n",
       "\t<tr><th></th><th scope=col>X</th><th scope=col>TCGA.3L.AA1B.01A.11H.A37P.13</th><th scope=col>TCGA.4N.A93T.01A.11H.A37P.13</th><th scope=col>TCGA.4T.AA8H.01A.11H.A41D.13</th><th scope=col>TCGA.5M.AAT4.01A.11H.A41D.13</th><th scope=col>TCGA.5M.AAT5.01A.21H.A41D.13</th><th scope=col>TCGA.5M.AAT6.01A.11H.A41D.13</th><th scope=col>TCGA.5M.AATA.01A.31H.A41D.13</th><th scope=col>TCGA.5M.AATE.01A.11H.A41D.13</th><th scope=col>TCGA.A6.2671.01A.01T.1409.13</th><th scope=col>⋯</th><th scope=col>TCGA.QG.A5YV.01A.11H.A28I.13</th><th scope=col>TCGA.QG.A5YW.01A.11H.A28I.13</th><th scope=col>TCGA.QG.A5YX.01A.11H.A28I.13</th><th scope=col>TCGA.QG.A5Z1.01A.11H.A28I.13</th><th scope=col>TCGA.QG.A5Z2.01A.11H.A28I.13</th><th scope=col>TCGA.QL.A97D.01A.12H.A41D.13</th><th scope=col>TCGA.RU.A8FL.01A.11H.A37P.13</th><th scope=col>TCGA.SS.A7HO.01A.21H.A37P.13</th><th scope=col>TCGA.T9.A92H.01A.11H.A37P.13</th><th scope=col>TCGA.WS.AB45.01A.11H.A41D.13</th></tr>\n",
       "\t<tr><th></th><th scope=col>&lt;chr&gt;</th><th scope=col>&lt;int&gt;</th><th scope=col>&lt;int&gt;</th><th scope=col>&lt;int&gt;</th><th scope=col>&lt;int&gt;</th><th scope=col>&lt;int&gt;</th><th scope=col>&lt;int&gt;</th><th scope=col>&lt;int&gt;</th><th scope=col>&lt;int&gt;</th><th scope=col>&lt;int&gt;</th><th scope=col>⋯</th><th scope=col>&lt;int&gt;</th><th scope=col>&lt;int&gt;</th><th scope=col>&lt;int&gt;</th><th scope=col>&lt;int&gt;</th><th scope=col>&lt;int&gt;</th><th scope=col>&lt;int&gt;</th><th scope=col>&lt;int&gt;</th><th scope=col>&lt;int&gt;</th><th scope=col>&lt;int&gt;</th><th scope=col>&lt;int&gt;</th></tr>\n",
       "</thead>\n",
       "<tbody>\n",
       "\t<tr><th scope=row>1</th><td>Type                   </td><td>  1</td><td>  1</td><td>  1</td><td>  1</td><td>  1</td><td>   1</td><td>  1</td><td>  1</td><td>  1</td><td>⋯</td><td>  1</td><td>  1</td><td>  1</td><td>  1</td><td>  1</td><td>  1</td><td>  1</td><td>  1</td><td>  1</td><td>  1</td></tr>\n",
       "\t<tr><th scope=row>2</th><td>CTGAGAACTGAATTCCATAGGCT</td><td>  3</td><td>  1</td><td>  1</td><td>  3</td><td>  3</td><td>  13</td><td>  3</td><td>  1</td><td>  1</td><td>⋯</td><td>  0</td><td>  9</td><td>  2</td><td>  5</td><td>  5</td><td>  2</td><td>  2</td><td>  6</td><td>  3</td><td>  7</td></tr>\n",
       "\t<tr><th scope=row>3</th><td>TGAGAACTGAATTCCATAG    </td><td>  1</td><td>  1</td><td>  2</td><td>  1</td><td>  1</td><td>   1</td><td>  1</td><td>  0</td><td>  5</td><td>⋯</td><td>  0</td><td>  0</td><td>  0</td><td>  0</td><td>  0</td><td>  3</td><td>  1</td><td>  0</td><td>  0</td><td>  0</td></tr>\n",
       "\t<tr><th scope=row>4</th><td>TGAGAACTGAATTCCATAGG   </td><td>  5</td><td>  7</td><td>  6</td><td>  4</td><td>  4</td><td>  11</td><td>  6</td><td>  4</td><td> 10</td><td>⋯</td><td>  0</td><td>  4</td><td>  3</td><td>  1</td><td>  5</td><td>  7</td><td>  2</td><td>  3</td><td>  4</td><td>  1</td></tr>\n",
       "\t<tr><th scope=row>5</th><td>TGAGAACTGAATTCCATAGGC  </td><td> 67</td><td> 20</td><td> 77</td><td> 33</td><td> 21</td><td> 134</td><td> 73</td><td> 29</td><td> 31</td><td>⋯</td><td> 13</td><td> 26</td><td> 32</td><td> 26</td><td> 39</td><td> 56</td><td> 37</td><td> 16</td><td> 20</td><td> 39</td></tr>\n",
       "\t<tr><th scope=row>6</th><td>TGAGAACTGAATTCCATAGGCT </td><td>466</td><td>267</td><td>770</td><td>220</td><td>190</td><td>1361</td><td>484</td><td>291</td><td>195</td><td>⋯</td><td>158</td><td>408</td><td>450</td><td>299</td><td>495</td><td>578</td><td>205</td><td>196</td><td>194</td><td>376</td></tr>\n",
       "</tbody>\n",
       "</table>\n"
      ],
      "text/latex": [
       "A data.frame: 6 × 628\n",
       "\\begin{tabular}{r|lllllllllllllllllllll}\n",
       "  & X & TCGA.3L.AA1B.01A.11H.A37P.13 & TCGA.4N.A93T.01A.11H.A37P.13 & TCGA.4T.AA8H.01A.11H.A41D.13 & TCGA.5M.AAT4.01A.11H.A41D.13 & TCGA.5M.AAT5.01A.21H.A41D.13 & TCGA.5M.AAT6.01A.11H.A41D.13 & TCGA.5M.AATA.01A.31H.A41D.13 & TCGA.5M.AATE.01A.11H.A41D.13 & TCGA.A6.2671.01A.01T.1409.13 & ⋯ & TCGA.QG.A5YV.01A.11H.A28I.13 & TCGA.QG.A5YW.01A.11H.A28I.13 & TCGA.QG.A5YX.01A.11H.A28I.13 & TCGA.QG.A5Z1.01A.11H.A28I.13 & TCGA.QG.A5Z2.01A.11H.A28I.13 & TCGA.QL.A97D.01A.12H.A41D.13 & TCGA.RU.A8FL.01A.11H.A37P.13 & TCGA.SS.A7HO.01A.21H.A37P.13 & TCGA.T9.A92H.01A.11H.A37P.13 & TCGA.WS.AB45.01A.11H.A41D.13\\\\\n",
       "  & <chr> & <int> & <int> & <int> & <int> & <int> & <int> & <int> & <int> & <int> & ⋯ & <int> & <int> & <int> & <int> & <int> & <int> & <int> & <int> & <int> & <int>\\\\\n",
       "\\hline\n",
       "\t1 & Type                    &   1 &   1 &   1 &   1 &   1 &    1 &   1 &   1 &   1 & ⋯ &   1 &   1 &   1 &   1 &   1 &   1 &   1 &   1 &   1 &   1\\\\\n",
       "\t2 & CTGAGAACTGAATTCCATAGGCT &   3 &   1 &   1 &   3 &   3 &   13 &   3 &   1 &   1 & ⋯ &   0 &   9 &   2 &   5 &   5 &   2 &   2 &   6 &   3 &   7\\\\\n",
       "\t3 & TGAGAACTGAATTCCATAG     &   1 &   1 &   2 &   1 &   1 &    1 &   1 &   0 &   5 & ⋯ &   0 &   0 &   0 &   0 &   0 &   3 &   1 &   0 &   0 &   0\\\\\n",
       "\t4 & TGAGAACTGAATTCCATAGG    &   5 &   7 &   6 &   4 &   4 &   11 &   6 &   4 &  10 & ⋯ &   0 &   4 &   3 &   1 &   5 &   7 &   2 &   3 &   4 &   1\\\\\n",
       "\t5 & TGAGAACTGAATTCCATAGGC   &  67 &  20 &  77 &  33 &  21 &  134 &  73 &  29 &  31 & ⋯ &  13 &  26 &  32 &  26 &  39 &  56 &  37 &  16 &  20 &  39\\\\\n",
       "\t6 & TGAGAACTGAATTCCATAGGCT  & 466 & 267 & 770 & 220 & 190 & 1361 & 484 & 291 & 195 & ⋯ & 158 & 408 & 450 & 299 & 495 & 578 & 205 & 196 & 194 & 376\\\\\n",
       "\\end{tabular}\n"
      ],
      "text/markdown": [
       "\n",
       "A data.frame: 6 × 628\n",
       "\n",
       "| <!--/--> | X &lt;chr&gt; | TCGA.3L.AA1B.01A.11H.A37P.13 &lt;int&gt; | TCGA.4N.A93T.01A.11H.A37P.13 &lt;int&gt; | TCGA.4T.AA8H.01A.11H.A41D.13 &lt;int&gt; | TCGA.5M.AAT4.01A.11H.A41D.13 &lt;int&gt; | TCGA.5M.AAT5.01A.21H.A41D.13 &lt;int&gt; | TCGA.5M.AAT6.01A.11H.A41D.13 &lt;int&gt; | TCGA.5M.AATA.01A.31H.A41D.13 &lt;int&gt; | TCGA.5M.AATE.01A.11H.A41D.13 &lt;int&gt; | TCGA.A6.2671.01A.01T.1409.13 &lt;int&gt; | ⋯ ⋯ | TCGA.QG.A5YV.01A.11H.A28I.13 &lt;int&gt; | TCGA.QG.A5YW.01A.11H.A28I.13 &lt;int&gt; | TCGA.QG.A5YX.01A.11H.A28I.13 &lt;int&gt; | TCGA.QG.A5Z1.01A.11H.A28I.13 &lt;int&gt; | TCGA.QG.A5Z2.01A.11H.A28I.13 &lt;int&gt; | TCGA.QL.A97D.01A.12H.A41D.13 &lt;int&gt; | TCGA.RU.A8FL.01A.11H.A37P.13 &lt;int&gt; | TCGA.SS.A7HO.01A.21H.A37P.13 &lt;int&gt; | TCGA.T9.A92H.01A.11H.A37P.13 &lt;int&gt; | TCGA.WS.AB45.01A.11H.A41D.13 &lt;int&gt; |\n",
       "|---|---|---|---|---|---|---|---|---|---|---|---|---|---|---|---|---|---|---|---|---|---|\n",
       "| 1 | Type                    |   1 |   1 |   1 |   1 |   1 |    1 |   1 |   1 |   1 | ⋯ |   1 |   1 |   1 |   1 |   1 |   1 |   1 |   1 |   1 |   1 |\n",
       "| 2 | CTGAGAACTGAATTCCATAGGCT |   3 |   1 |   1 |   3 |   3 |   13 |   3 |   1 |   1 | ⋯ |   0 |   9 |   2 |   5 |   5 |   2 |   2 |   6 |   3 |   7 |\n",
       "| 3 | TGAGAACTGAATTCCATAG     |   1 |   1 |   2 |   1 |   1 |    1 |   1 |   0 |   5 | ⋯ |   0 |   0 |   0 |   0 |   0 |   3 |   1 |   0 |   0 |   0 |\n",
       "| 4 | TGAGAACTGAATTCCATAGG    |   5 |   7 |   6 |   4 |   4 |   11 |   6 |   4 |  10 | ⋯ |   0 |   4 |   3 |   1 |   5 |   7 |   2 |   3 |   4 |   1 |\n",
       "| 5 | TGAGAACTGAATTCCATAGGC   |  67 |  20 |  77 |  33 |  21 |  134 |  73 |  29 |  31 | ⋯ |  13 |  26 |  32 |  26 |  39 |  56 |  37 |  16 |  20 |  39 |\n",
       "| 6 | TGAGAACTGAATTCCATAGGCT  | 466 | 267 | 770 | 220 | 190 | 1361 | 484 | 291 | 195 | ⋯ | 158 | 408 | 450 | 299 | 495 | 578 | 205 | 196 | 194 | 376 |\n",
       "\n"
      ],
      "text/plain": [
       "  X                       TCGA.3L.AA1B.01A.11H.A37P.13\n",
       "1 Type                      1                         \n",
       "2 CTGAGAACTGAATTCCATAGGCT   3                         \n",
       "3 TGAGAACTGAATTCCATAG       1                         \n",
       "4 TGAGAACTGAATTCCATAGG      5                         \n",
       "5 TGAGAACTGAATTCCATAGGC    67                         \n",
       "6 TGAGAACTGAATTCCATAGGCT  466                         \n",
       "  TCGA.4N.A93T.01A.11H.A37P.13 TCGA.4T.AA8H.01A.11H.A41D.13\n",
       "1   1                            1                         \n",
       "2   1                            1                         \n",
       "3   1                            2                         \n",
       "4   7                            6                         \n",
       "5  20                           77                         \n",
       "6 267                          770                         \n",
       "  TCGA.5M.AAT4.01A.11H.A41D.13 TCGA.5M.AAT5.01A.21H.A41D.13\n",
       "1   1                            1                         \n",
       "2   3                            3                         \n",
       "3   1                            1                         \n",
       "4   4                            4                         \n",
       "5  33                           21                         \n",
       "6 220                          190                         \n",
       "  TCGA.5M.AAT6.01A.11H.A41D.13 TCGA.5M.AATA.01A.31H.A41D.13\n",
       "1    1                           1                         \n",
       "2   13                           3                         \n",
       "3    1                           1                         \n",
       "4   11                           6                         \n",
       "5  134                          73                         \n",
       "6 1361                         484                         \n",
       "  TCGA.5M.AATE.01A.11H.A41D.13 TCGA.A6.2671.01A.01T.1409.13 ⋯\n",
       "1   1                            1                          ⋯\n",
       "2   1                            1                          ⋯\n",
       "3   0                            5                          ⋯\n",
       "4   4                           10                          ⋯\n",
       "5  29                           31                          ⋯\n",
       "6 291                          195                          ⋯\n",
       "  TCGA.QG.A5YV.01A.11H.A28I.13 TCGA.QG.A5YW.01A.11H.A28I.13\n",
       "1   1                            1                         \n",
       "2   0                            9                         \n",
       "3   0                            0                         \n",
       "4   0                            4                         \n",
       "5  13                           26                         \n",
       "6 158                          408                         \n",
       "  TCGA.QG.A5YX.01A.11H.A28I.13 TCGA.QG.A5Z1.01A.11H.A28I.13\n",
       "1   1                            1                         \n",
       "2   2                            5                         \n",
       "3   0                            0                         \n",
       "4   3                            1                         \n",
       "5  32                           26                         \n",
       "6 450                          299                         \n",
       "  TCGA.QG.A5Z2.01A.11H.A28I.13 TCGA.QL.A97D.01A.12H.A41D.13\n",
       "1   1                            1                         \n",
       "2   5                            2                         \n",
       "3   0                            3                         \n",
       "4   5                            7                         \n",
       "5  39                           56                         \n",
       "6 495                          578                         \n",
       "  TCGA.RU.A8FL.01A.11H.A37P.13 TCGA.SS.A7HO.01A.21H.A37P.13\n",
       "1   1                            1                         \n",
       "2   2                            6                         \n",
       "3   1                            0                         \n",
       "4   2                            3                         \n",
       "5  37                           16                         \n",
       "6 205                          196                         \n",
       "  TCGA.T9.A92H.01A.11H.A37P.13 TCGA.WS.AB45.01A.11H.A41D.13\n",
       "1   1                            1                         \n",
       "2   3                            7                         \n",
       "3   0                            0                         \n",
       "4   4                            1                         \n",
       "5  20                           39                         \n",
       "6 194                          376                         "
      ]
     },
     "metadata": {},
     "output_type": "display_data"
    }
   ],
   "source": [
    "head(raw.data.tcga)"
   ]
  },
  {
   "cell_type": "code",
   "execution_count": 12,
   "metadata": {
    "vscode": {
     "languageId": "r"
    }
   },
   "outputs": [
    {
     "data": {
      "text/html": [
       "3295"
      ],
      "text/latex": [
       "3295"
      ],
      "text/markdown": [
       "3295"
      ],
      "text/plain": [
       "[1] 3295"
      ]
     },
     "metadata": {},
     "output_type": "display_data"
    },
    {
     "data": {
      "text/html": [
       "3157"
      ],
      "text/latex": [
       "3157"
      ],
      "text/markdown": [
       "3157"
      ],
      "text/plain": [
       "[1] 3157"
      ]
     },
     "metadata": {},
     "output_type": "display_data"
    }
   ],
   "source": [
    "length(raw.data.tcga[, 1])\n",
    "length(unique(raw.data.tcga[, 1]))"
   ]
  }
 ],
 "metadata": {
  "kernelspec": {
   "display_name": "R",
   "language": "R",
   "name": "ir"
  },
  "language_info": {
   "codemirror_mode": "r",
   "file_extension": ".r",
   "mimetype": "text/x-r-source",
   "name": "R",
   "pygments_lexer": "r",
   "version": "4.3.3"
  }
 },
 "nbformat": 4,
 "nbformat_minor": 2
}
